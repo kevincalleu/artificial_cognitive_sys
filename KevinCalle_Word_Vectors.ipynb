{
 "cells": [
  {
   "cell_type": "markdown",
   "metadata": {
    "colab_type": "text",
    "id": "js2tZwNIYyX5"
   },
   "source": [
    "# Word Vectors\n",
    "\n",
    "### **Nombre:** Kevin Fabricio Calle Urgilez\n",
    "\n",
    "### **Asignatura:** Sistemas Cognitivos Artificiales \n",
    "\n",
    "### **Fecha:** 19/11/18"
   ]
  },
  {
   "cell_type": "markdown",
   "metadata": {
    "colab_type": "text",
    "id": "QnLqaxTgY4Ef"
   },
   "source": [
    "En este trabajo, utilizaremos **embeddings** para resolver un problema de clasificación de texto. Los embeddings, representaciones distribuidas y vectoriales de elementos, son un concepto muy común en el mundo del deep learning. Los **word vectors** que hemos visto en clase son una representación en forma de embedding de las palabras.\n",
    "\n",
    "Para realizar este trabajo y sacarle el máximo partido, se recomienda ver los siguientes vídeos de clase:\n",
    "\n",
    "*   Clasificación de texto con Word Vectors.\n",
    "*   Análisis de overfitting con un modelo bag of words.\n",
    "*   Clasificación de texto con RNN\n",
    "\n",
    "Vamos a utilizar el dataset **\"Reuters newswire topics classification\"**, disponible desde Keras de manera similar al dataset de IMDB ([ver documentación](https://keras.io/datasets/#reuters-newswire-topics-classification)).\n",
    "\n",
    "---\n",
    "\n",
    "Se pide:\n",
    "\n",
    "Entrenar un modelo **utilizando embeddings** que consiga un **65% de accuracy en test (55% si usamos RNNs)**, mostrando el entrenamiento y el resultado final.\n",
    " \n",
    "Tenemos varias opciones para entrenar modelos con embeddings. El alumno puede explorar más de una pero es suficiente con conseguir un modelo que alcance la accuracy requerida:\n",
    "\n",
    "*   Utilizar una **media de embeddings** al estilo de lo visto en el vídeo *Clasificación de texto con Word Vectors*\n",
    "*   Utilizar una **CNN** sobre una secuencia de word vectors. Aquí necesitamos cambiar un poco la idea de convolución para actuar sobre sequencias de vectores. Keras incluye una [Convolución en 1D](https://keras.io/layers/convolutional/#conv1d) que puede ser utilizada en este caso, con un ejemplo de uso en la documentación. Una forma de hacer funcionar este esquema sería utilizar la convolución en 1D + max pooling.\n",
    "*  Utilizar una **RNN** sobre una secuencia de word vectors, al estilo de lo visto en el vídeo *Clasificación de texto con RNN*. Para este problema es un poco complicado conseguir un buen modelo con RNNs, y además es más difícil experimentar ya que las redes recurrentes son modelos lentos de entrenar. Por eso, es suficiente con alcanzar un 55% de accuracy si optamos por utilizar un modelo de este estilo. Un buen consejo es emplear una red recurrente bidireccional como se ve en el vídeo *Clasificación de texto con RNN*.\n",
    "\n",
    "\n",
    "\n",
    "---\n",
    "\n",
    "Dos hiperparámetros importantes a elegir en el modelo son la **longitud de las secuencias de texto** y el **tamaño del vocabulario** para los embeddings. Podéis experimentar con ambos, o utilizar los mismos que se usan en los vídeos. Nótese que, al cortar todas las secuencias para que tengan el mismo tamaño, podríamos estar perdiendo mucho texto si elegimos un tamaño de secuencia demasiado pequeño. Igualmente, si las hacemos muy largas necesitaremos más tiempo para entrenar nuestros modelos. Una buena idea consiste en explorar los datos para ver cómo suelen ser de largos los textos y encontrar un buen trade-off para el tamaño de al secuencia.\n",
    "\n",
    "\n",
    "\n",
    "---\n",
    "\n",
    "Los embeddings que hemos visto en los vídeos se entrenan junto al modelo.  Una técnica frecuente es inicializar estos embeddings con word-vectors pre-entrenados en un gran corpus de texto, como hemos visto en clase. Esto puede ayudar ya que nuestro modelo empieza con unos embeddings que ya encapsulan significado. Si bien no es necesario para esta práctica, podéis ver cómo usar esta técnica [en el siguiente tutorial](https://blog.keras.io/using-pre-trained-word-embeddings-in-a-keras-model.html)."
   ]
  },
  {
   "cell_type": "code",
   "execution_count": 1,
   "metadata": {
    "colab": {
     "base_uri": "https://localhost:8080/",
     "height": 34
    },
    "colab_type": "code",
    "id": "HXUD6MR0Ty8x",
    "outputId": "8d6481e6-777e-435d-8783-c2b1d372c70e"
   },
   "outputs": [
    {
     "name": "stderr",
     "output_type": "stream",
     "text": [
      "Using TensorFlow backend.\n"
     ]
    }
   ],
   "source": [
    "# Se importan las librerías necesarias\n",
    "\n",
    "import keras\n",
    "from keras.datasets import reuters\n",
    "import tensorflow as tf\n",
    "from tensorflow import keras\n",
    "import numpy as np\n",
    "import matplotlib.pyplot as plt\n",
    "from keras.preprocessing.text import Tokenizer\n",
    "from keras.models import Sequential\n",
    "from keras.layers import Dense, Dropout, Activation, Flatten, AveragePooling1D, BatchNormalization"
   ]
  },
  {
   "cell_type": "markdown",
   "metadata": {
    "colab_type": "text",
    "id": "o03_B3KzhEv9"
   },
   "source": [
    "## 1. Descripción de los datos"
   ]
  },
  {
   "cell_type": "markdown",
   "metadata": {
    "colab_type": "text",
    "id": "ggvHlRLlhEv-"
   },
   "source": [
    "* [Reuters newswire topics classification](https://keras.io/datasets/#reuters-newswire-topics-classification)\n",
    "\n",
    "\n",
    "El dataset se forma de 11,228 noticias de Reuters, con más de 46 temas.\n",
    "Las noticias han sido preprocesadas y cada revisión se codifica como una secuencia de índices de palabras (enteros). Los índices representan la frecuencia con la aparecen las palabras en los datos completos."
   ]
  },
  {
   "cell_type": "code",
   "execution_count": 0,
   "metadata": {
    "colab": {},
    "colab_type": "code",
    "collapsed": true,
    "id": "kU7QsWfQT3dH"
   },
   "outputs": [],
   "source": [
    "# Se descargan los datos de \"Reuters newswire topics classification\" y se los separa en conjuntos de train y test. \n",
    "# El parámetro num_words permite elegir, en este caso, las 10000 palabras más frecuentes.\n",
    "\n",
    "(x_train, y_train), (x_test, y_test) = reuters.load_data(num_words=10000, test_split=0.2)"
   ]
  },
  {
   "cell_type": "code",
   "execution_count": 3,
   "metadata": {
    "colab": {
     "base_uri": "https://localhost:8080/",
     "height": 68
    },
    "colab_type": "code",
    "id": "M6lfTpIAhEwI",
    "outputId": "19d6d35b-4f50-4ebb-ad7a-65056cc9924b"
   },
   "outputs": [
    {
     "name": "stdout",
     "output_type": "stream",
     "text": [
      "Número de datos en el conjunto de entrenamiento: 8982\n",
      "Número de datos en el conjunto de test: 2246\n",
      "Número de clases: 46\n"
     ]
    }
   ],
   "source": [
    "# Se imprime en pantalla el tamaño del set de entrenamento, test y el número de clases.\n",
    "\n",
    "print('Número de datos en el conjunto de entrenamiento: {}'.format(len(x_train)))\n",
    "print('Número de datos en el conjunto de test: {}'.format(len(x_test)))\n",
    "\n",
    "num_classes = max(y_train) + 1\n",
    "print('Número de clases: {}'.format(num_classes))"
   ]
  },
  {
   "cell_type": "code",
   "execution_count": 4,
   "metadata": {
    "colab": {
     "base_uri": "https://localhost:8080/",
     "height": 54
    },
    "colab_type": "code",
    "id": "94k_fPETZasz",
    "outputId": "90a04511-6643-4520-f3be-96823a953003"
   },
   "outputs": [
    {
     "name": "stdout",
     "output_type": "stream",
     "text": [
      "[1, 2, 2, 8, 43, 10, 447, 5, 25, 207, 270, 5, 3095, 111, 16, 369, 186, 90, 67, 7, 89, 5, 19, 102, 6, 19, 124, 15, 90, 67, 84, 22, 482, 26, 7, 48, 4, 49, 8, 864, 39, 209, 154, 6, 151, 6, 83, 11, 15, 22, 155, 11, 15, 7, 48, 9, 4579, 1005, 504, 6, 258, 6, 272, 11, 15, 22, 134, 44, 11, 15, 16, 8, 197, 1245, 90, 67, 52, 29, 209, 30, 32, 132, 6, 109, 15, 17, 12]\n"
     ]
    }
   ],
   "source": [
    "# Se imprime una muestra de entrenamiento. Esta se representa por sus índices\n",
    "\n",
    "print(x_train[0])"
   ]
  },
  {
   "cell_type": "code",
   "execution_count": 0,
   "metadata": {
    "colab": {},
    "colab_type": "code",
    "collapsed": true,
    "id": "TJhqFIKKT3l4"
   },
   "outputs": [],
   "source": [
    "# Se obtiene el índice de las palabras con la función .get_word_index()\n",
    "\n",
    "word_index = reuters.get_word_index(path=\"reuters_word_index.json\")\n",
    "\n",
    "# Función que convierte los índices en palabras\n",
    "\n",
    "index_to_word = {}\n",
    "for key, value in word_index.items():\n",
    "    index_to_word[value] = key"
   ]
  },
  {
   "cell_type": "code",
   "execution_count": 6,
   "metadata": {
    "colab": {
     "base_uri": "https://localhost:8080/",
     "height": 71
    },
    "colab_type": "code",
    "id": "iHLb2LgoT3pS",
    "outputId": "34d3fbf3-f962-471c-c483-600b79580522"
   },
   "outputs": [
    {
     "name": "stdout",
     "output_type": "stream",
     "text": [
      "the of of mln loss for plc said at only ended said commonwealth could 1 traders now april 0 a after said from 1985 and from foreign 000 april 0 prices its account year a but in this mln home an states earlier and rise and revs vs 000 its 16 vs 000 a but 3 psbr oils several and shareholders and dividend vs 000 its all 4 vs 000 1 mln agreed largely april 0 are 2 states will billion total and against 000 pct dlrs\n",
      "3\n"
     ]
    }
   ],
   "source": [
    "# Se imprime en pantalla la conversión de índices a palabras para una de las muestras\n",
    "\n",
    "print(' '.join([index_to_word[x] for x in x_train[0]]))\n",
    "print(y_train[0])"
   ]
  },
  {
   "cell_type": "markdown",
   "metadata": {
    "colab_type": "text",
    "id": "ZwYioM1RhEwj"
   },
   "source": [
    "## 2. Preparación de los datos"
   ]
  },
  {
   "cell_type": "markdown",
   "metadata": {
    "colab_type": "text",
    "id": "W6DN3qQvhEwp"
   },
   "source": [
    "Se tokenizan los datos para representarlos de manera binaria. Es decir, si una palabra del vocabulario está presente en el párrafo esta se muestra como 1, caso contrario si la palabra es desconocida según el vocabulario esta se representa como 0."
   ]
  },
  {
   "cell_type": "code",
   "execution_count": 0,
   "metadata": {
    "colab": {},
    "colab_type": "code",
    "collapsed": true,
    "id": "saJ0zs6aT3sb"
   },
   "outputs": [],
   "source": [
    "# Se tokenizan las muestras para representarlas de manera binaria.\n",
    "\n",
    "# Se define que nuestro vocabulario consta de 10000 palabras\n",
    "\n",
    "vocabulario = 10000\n",
    "\n",
    "tokenizer = Tokenizer(num_words = vocabulario)\n",
    "\n",
    "x_train = tokenizer.sequences_to_matrix(x_train, mode = 'binary')\n",
    "x_test = tokenizer.sequences_to_matrix(x_test, mode = 'binary')\n",
    "\n",
    "y_train = keras.utils.to_categorical(y_train, num_classes)\n",
    "y_test = keras.utils.to_categorical(y_test, num_classes)"
   ]
  },
  {
   "cell_type": "code",
   "execution_count": 8,
   "metadata": {
    "colab": {
     "base_uri": "https://localhost:8080/",
     "height": 51
    },
    "colab_type": "code",
    "id": "nWgDBRWMT3vI",
    "outputId": "1507bd95-c752-48e2-fde2-6ab635b07725"
   },
   "outputs": [
    {
     "name": "stdout",
     "output_type": "stream",
     "text": [
      "[0. 1. 1. ... 0. 0. 0.]\n",
      "10000\n"
     ]
    }
   ],
   "source": [
    "# Se imprime una muestra del conjunto de train tokenizado\n",
    "\n",
    "print(x_train[0])\n",
    "\n",
    "# Se imprime el tamaño del vector tokenizado\n",
    "\n",
    "print(len(x_train[0]))"
   ]
  },
  {
   "cell_type": "code",
   "execution_count": 9,
   "metadata": {
    "colab": {
     "base_uri": "https://localhost:8080/",
     "height": 68
    },
    "colab_type": "code",
    "id": "_Xcob_BFhEw2",
    "outputId": "bb3de599-352f-4318-f381-ed040a6f3e25"
   },
   "outputs": [
    {
     "name": "stdout",
     "output_type": "stream",
     "text": [
      "[0. 0. 0. 1. 0. 0. 0. 0. 0. 0. 0. 0. 0. 0. 0. 0. 0. 0. 0. 0. 0. 0. 0. 0.\n",
      " 0. 0. 0. 0. 0. 0. 0. 0. 0. 0. 0. 0. 0. 0. 0. 0. 0. 0. 0. 0. 0. 0.]\n",
      "46\n"
     ]
    }
   ],
   "source": [
    "# Se imprime una muestra del conjunto de test tokenizado\n",
    "\n",
    "print(y_train[0])\n",
    "\n",
    "# Se imprime el tamaño del vector tokenizado\n",
    "\n",
    "print(len(y_train[0]))"
   ]
  },
  {
   "cell_type": "markdown",
   "metadata": {
    "colab_type": "text",
    "id": "G96nrRHrhEw-"
   },
   "source": [
    "## 3. Red Neuronal"
   ]
  },
  {
   "cell_type": "markdown",
   "metadata": {
    "colab_type": "text",
    "id": "tEU7eO3-hExA"
   },
   "source": [
    "#### 3.1 Topología de la Red neuronal"
   ]
  },
  {
   "cell_type": "markdown",
   "metadata": {
    "colab_type": "text",
    "id": "ch6Fd2cjhExA"
   },
   "source": [
    "Se crea una red neuronal utilizando embeddings. \n",
    "- La entrada de la red son los conjuntos de train de tamaño del vocabulario representados de manera binaria. 1 si la palabra existe y 0 si no existe.\n",
    "- Tenemos una capa intermedia de 512 neuronas con activación Relu.\n",
    "- Tenemos 1 capa de regularización Dropout para evitar el sobre ajuste de datos\n",
    "- Aplicamos una capa de average pooling para obtener un promedio de reducido de los datos de la capa anterior.\n",
    "- Tenemos una capa de salida con 46 neuronas (una por cada clase) con función de activación tipo softmax para representar las predicciones como\n",
    "densidades de probabilidad."
   ]
  },
  {
   "cell_type": "code",
   "execution_count": 10,
   "metadata": {
    "colab": {
     "base_uri": "https://localhost:8080/",
     "height": 340
    },
    "colab_type": "code",
    "id": "U_-iubwXT3yN",
    "outputId": "bb63568d-0162-41d3-9568-917399199cc9"
   },
   "outputs": [
    {
     "name": "stdout",
     "output_type": "stream",
     "text": [
      "_________________________________________________________________\n",
      "Layer (type)                 Output Shape              Param #   \n",
      "=================================================================\n",
      "embedding_1 (Embedding)      (None, 10000, 64)         640000    \n",
      "_________________________________________________________________\n",
      "dense_1 (Dense)              (None, 10000, 512)        33280     \n",
      "_________________________________________________________________\n",
      "dropout_1 (Dropout)          (None, 10000, 512)        0         \n",
      "_________________________________________________________________\n",
      "average_pooling1d_1 (Average (None, 5000, 512)         0         \n",
      "_________________________________________________________________\n",
      "flatten_1 (Flatten)          (None, 2560000)           0         \n",
      "_________________________________________________________________\n",
      "dense_2 (Dense)              (None, 46)                117760046 \n",
      "=================================================================\n",
      "Total params: 118,433,326\n",
      "Trainable params: 118,433,326\n",
      "Non-trainable params: 0\n",
      "_________________________________________________________________\n"
     ]
    }
   ],
   "source": [
    "# Creamos la red neuronal\n",
    "\n",
    "model = Sequential()\n",
    "model.add(keras.layers.Embedding(vocabulario, 64, input_length = 10000))\n",
    "model.add(Dense(512, activation = 'relu'))\n",
    "model.add(Dropout(0.5))\n",
    "model.add(AveragePooling1D())\n",
    "model.add(Flatten())\n",
    "model.add(Dense(46, activation='softmax'))\n",
    "\n",
    "# Vemos el resumen de la arquitectura de la red neuronal\n",
    "\n",
    "model.summary()"
   ]
  },
  {
   "cell_type": "code",
   "execution_count": 0,
   "metadata": {
    "colab": {},
    "colab_type": "code",
    "collapsed": true,
    "id": "DDBVXN-bT306"
   },
   "outputs": [],
   "source": [
    "# Se establecen los parámetros de la red neuronal. Compilamos el modelo y establecemos las métricas\n",
    "# de evaluación y el optimizador\n",
    "\n",
    "batch_size = 32\n",
    "epochs = 4\n",
    "\n",
    "model.compile(loss='categorical_crossentropy', optimizer='adam', metrics=['accuracy'])"
   ]
  },
  {
   "cell_type": "markdown",
   "metadata": {
    "colab_type": "text",
    "id": "iPhlZpwehExR"
   },
   "source": [
    "#### 3.2 Entrenamiento de la red neuronal"
   ]
  },
  {
   "cell_type": "markdown",
   "metadata": {},
   "source": [
    "Modelos con embeddings generan gran cantidad de parámetros en la red por lo que fue necesario utilizar capas de average_pooling y procesamiento con GPU para optimizar el cómputo."
   ]
  },
  {
   "cell_type": "code",
   "execution_count": 12,
   "metadata": {
    "colab": {
     "base_uri": "https://localhost:8080/",
     "height": 170
    },
    "colab_type": "code",
    "id": "a84OvRh6T33t",
    "outputId": "1b26c99e-c5ad-41ce-d872-3abf91e63076"
   },
   "outputs": [
    {
     "name": "stdout",
     "output_type": "stream",
     "text": [
      "Train on 7185 samples, validate on 1797 samples\n",
      "Epoch 1/4\n",
      "7185/7185 [==============================] - 176s 24ms/step - loss: 1.5523 - acc: 0.6866 - val_loss: 1.0880 - val_acc: 0.7885\n",
      "Epoch 2/4\n",
      "7185/7185 [==============================] - 170s 24ms/step - loss: 0.5037 - acc: 0.8939 - val_loss: 1.1551 - val_acc: 0.7869\n",
      "Epoch 3/4\n",
      "7185/7185 [==============================] - 169s 24ms/step - loss: 0.2999 - acc: 0.9379 - val_loss: 1.3068 - val_acc: 0.7713\n",
      "Epoch 4/4\n",
      "7185/7185 [==============================] - 170s 24ms/step - loss: 0.2564 - acc: 0.9486 - val_loss: 1.3509 - val_acc: 0.7752\n"
     ]
    }
   ],
   "source": [
    "# Entrenamos la red neuronal\n",
    "\n",
    "history = model.fit(x_train,\n",
    "                    y_train,\n",
    "                    batch_size=batch_size,\n",
    "                    epochs=epochs,\n",
    "                    verbose=1,\n",
    "                    validation_split=0.2)"
   ]
  },
  {
   "cell_type": "markdown",
   "metadata": {
    "colab_type": "text",
    "id": "SDX9LRdXhExh"
   },
   "source": [
    "## 4. Evaluación del modelo"
   ]
  },
  {
   "cell_type": "markdown",
   "metadata": {
    "colab_type": "text",
    "id": "twqldEpBhExj"
   },
   "source": [
    "#### 4.1 Funciones para evaluaciones del modelo"
   ]
  },
  {
   "cell_type": "code",
   "execution_count": 0,
   "metadata": {
    "colab": {},
    "colab_type": "code",
    "collapsed": true,
    "id": "hFGmyfmh8TuO"
   },
   "outputs": [],
   "source": [
    "# Funciones para realizar gráficos de la precisión y pérdidas en el modelo\n",
    "\n",
    "def plot_acc(history, title=\"Model Accuracy\"):\n",
    "    \"\"\"Imprime una gráfica mostrando la accuracy por epoch obtenida en un entrenamiento\"\"\"\n",
    "    plt.plot(history.history['acc'])\n",
    "    plt.plot(history.history['val_acc'])\n",
    "    plt.title(title)\n",
    "    plt.ylabel('Accuracy')\n",
    "    plt.xlabel('Epoch')\n",
    "    plt.legend(['Train', 'Val'], loc='upper left')\n",
    "    plt.show()\n",
    "    \n",
    "def plot_loss(history, title=\"Model Loss\"):\n",
    "    \"\"\"Imprime una gráfica mostrando la pérdida por epoch obtenida en un entrenamiento\"\"\"\n",
    "    plt.plot(history.history['loss'])\n",
    "    plt.plot(history.history['val_loss'])\n",
    "    plt.title(title)\n",
    "    plt.ylabel('Loss')\n",
    "    plt.xlabel('Epoch')\n",
    "    plt.legend(['Train', 'Val'], loc='upper right')\n",
    "    plt.show()"
   ]
  },
  {
   "cell_type": "markdown",
   "metadata": {},
   "source": [
    "#### 4.2 Precisión del modelo "
   ]
  },
  {
   "cell_type": "markdown",
   "metadata": {},
   "source": [
    "Podemos observar en el siguiente gráfico la precisión para los conjuntos de train y validation. El modelos se entrena correctamente en 1 época. A partir de la época 2 se cae en sobreajuste.\n",
    "Esto puede pasar porque la cantidad de datos es pequeña para la potencia del modelo. "
   ]
  },
  {
   "cell_type": "code",
   "execution_count": 14,
   "metadata": {
    "colab": {
     "base_uri": "https://localhost:8080/",
     "height": 376
    },
    "colab_type": "code",
    "id": "QZqn5rTIZqUx",
    "outputId": "05692622-bce1-4075-b27f-3d82f0857dd0"
   },
   "outputs": [
    {
     "data": {
      "image/png": "[encoded data removed]",
      "text/plain": [
       "<matplotlib.figure.Figure at 0x7f33d15a7ac8>"
      ]
     },
     "metadata": {
      "tags": []
     },
     "output_type": "display_data"
    }
   ],
   "source": [
    "plot_acc(history)"
   ]
  },
  {
   "cell_type": "markdown",
   "metadata": {},
   "source": [
    "#### 4.3 Pérdidas del modelo"
   ]
  },
  {
   "cell_type": "markdown",
   "metadata": {},
   "source": [
    "De igual forma se observa que en la época 1 el error alcanza su nivel mínimo. A partir de la época 2 el error incrementa."
   ]
  },
  {
   "cell_type": "code",
   "execution_count": 15,
   "metadata": {
    "colab": {
     "base_uri": "https://localhost:8080/",
     "height": 376
    },
    "colab_type": "code",
    "id": "bLj0JrZqhExx",
    "outputId": "06384582-522e-4150-decf-c624f2716a07"
   },
   "outputs": [
    {
     "data": {
      "image/png": "[encoded data removed]",
      "text/plain": [
       "<matplotlib.figure.Figure at 0x7f337a285b70>"
      ]
     },
     "metadata": {
      "tags": []
     },
     "output_type": "display_data"
    }
   ],
   "source": [
    "plot_loss(history)"
   ]
  },
  {
   "cell_type": "markdown",
   "metadata": {
    "colab_type": "text",
    "id": "_wGZMOTWhEx0"
   },
   "source": [
    "#### 4.4 Evaluación del modelo con datos de TEST"
   ]
  },
  {
   "cell_type": "code",
   "execution_count": 16,
   "metadata": {
    "colab": {
     "base_uri": "https://localhost:8080/",
     "height": 68
    },
    "colab_type": "code",
    "id": "zaHB4_fG3uyY",
    "outputId": "73d55e17-00c7-4f4b-8393-e607bcfa4391"
   },
   "outputs": [
    {
     "name": "stdout",
     "output_type": "stream",
     "text": [
      "2246/2246 [==============================] - 5s 2ms/step\n",
      "Test accuracy: 0.7560106857164779\n",
      "Test loss: 1.4107788742809346\n"
     ]
    }
   ],
   "source": [
    "# Se evalúa la precisión y las pérdidas del modelo con datos de test\n",
    "\n",
    "score = model.evaluate(x_test, y_test, batch_size=batch_size, verbose=1)\n",
    "\n",
    "print('Test accuracy:', score[1])\n",
    "print('Test loss:', score[0])"
   ]
  }
 ],
 "metadata": {
  "accelerator": "GPU",
  "colab": {
   "collapsed_sections": [],
   "name": "Deber.ipynb",
   "provenance": [],
   "version": "0.3.2"
  },
  "kernelspec": {
   "display_name": "Python 3",
   "language": "python",
   "name": "python3"
  },
  "language_info": {
   "codemirror_mode": {
    "name": "ipython",
    "version": 3
   },
   "file_extension": ".py",
   "mimetype": "text/x-python",
   "name": "python",
   "nbconvert_exporter": "python",
   "pygments_lexer": "ipython3",
   "version": "3.6.6"
  }
 },
 "nbformat": 4,
 "nbformat_minor": 1
}
